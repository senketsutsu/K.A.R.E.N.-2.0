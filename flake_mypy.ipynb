{
  "nbformat": 4,
  "nbformat_minor": 0,
  "metadata": {
    "colab": {
      "provenance": []
    },
    "kernelspec": {
      "name": "python3",
      "display_name": "Python 3"
    },
    "language_info": {
      "name": "python"
    }
  },
  "cells": [
    {
      "cell_type": "code",
      "execution_count": 1,
      "metadata": {
        "colab": {
          "base_uri": "https://localhost:8080/"
        },
        "id": "-FlX9I4ZYeSY",
        "outputId": "cdd22cec-ab90-4c69-b7ee-c363c5e1e00c"
      },
      "outputs": [
        {
          "output_type": "stream",
          "name": "stdout",
          "text": [
            "Collecting flake8\n",
            "  Downloading flake8-7.0.0-py2.py3-none-any.whl (57 kB)\n",
            "\u001b[2K     \u001b[90m━━━━━━━━━━━━━━━━━━━━━━━━━━━━━━━━━━━━━━━━\u001b[0m \u001b[32m57.6/57.6 kB\u001b[0m \u001b[31m1.1 MB/s\u001b[0m eta \u001b[36m0:00:00\u001b[0m\n",
            "\u001b[?25hCollecting mccabe<0.8.0,>=0.7.0 (from flake8)\n",
            "  Downloading mccabe-0.7.0-py2.py3-none-any.whl (7.3 kB)\n",
            "Collecting pycodestyle<2.12.0,>=2.11.0 (from flake8)\n",
            "  Downloading pycodestyle-2.11.1-py2.py3-none-any.whl (31 kB)\n",
            "Collecting pyflakes<3.3.0,>=3.2.0 (from flake8)\n",
            "  Downloading pyflakes-3.2.0-py2.py3-none-any.whl (62 kB)\n",
            "\u001b[2K     \u001b[90m━━━━━━━━━━━━━━━━━━━━━━━━━━━━━━━━━━━━━━━━\u001b[0m \u001b[32m62.7/62.7 kB\u001b[0m \u001b[31m5.8 MB/s\u001b[0m eta \u001b[36m0:00:00\u001b[0m\n",
            "\u001b[?25hInstalling collected packages: pyflakes, pycodestyle, mccabe, flake8\n",
            "Successfully installed flake8-7.0.0 mccabe-0.7.0 pycodestyle-2.11.1 pyflakes-3.2.0\n"
          ]
        }
      ],
      "source": [
        "! python -m pip install flake8"
      ]
    },
    {
      "cell_type": "code",
      "source": [
        "! flake8 karen2.py"
      ],
      "metadata": {
        "id": "5YbAbHcvYikt"
      },
      "execution_count": 19,
      "outputs": []
    },
    {
      "cell_type": "code",
      "source": [
        "! python3 -m pip install mypy"
      ],
      "metadata": {
        "colab": {
          "base_uri": "https://localhost:8080/"
        },
        "id": "SGpffLWol2PS",
        "outputId": "71a0cef6-54fe-4d35-94d4-1cce3cf21785"
      },
      "execution_count": 16,
      "outputs": [
        {
          "output_type": "stream",
          "name": "stdout",
          "text": [
            "Collecting mypy\n",
            "  Downloading mypy-1.10.0-cp310-cp310-manylinux_2_17_x86_64.manylinux2014_x86_64.whl (12.7 MB)\n",
            "\u001b[2K     \u001b[90m━━━━━━━━━━━━━━━━━━━━━━━━━━━━━━━━━━━━━━━━\u001b[0m \u001b[32m12.7/12.7 MB\u001b[0m \u001b[31m50.9 MB/s\u001b[0m eta \u001b[36m0:00:00\u001b[0m\n",
            "\u001b[?25hRequirement already satisfied: typing-extensions>=4.1.0 in /usr/local/lib/python3.10/dist-packages (from mypy) (4.12.2)\n",
            "Collecting mypy-extensions>=1.0.0 (from mypy)\n",
            "  Downloading mypy_extensions-1.0.0-py3-none-any.whl (4.7 kB)\n",
            "Requirement already satisfied: tomli>=1.1.0 in /usr/local/lib/python3.10/dist-packages (from mypy) (2.0.1)\n",
            "Installing collected packages: mypy-extensions, mypy\n",
            "Successfully installed mypy-1.10.0 mypy-extensions-1.0.0\n"
          ]
        }
      ]
    },
    {
      "cell_type": "code",
      "source": [
        "! mypy karen2.py"
      ],
      "metadata": {
        "colab": {
          "base_uri": "https://localhost:8080/"
        },
        "id": "xflbpSBmtX6d",
        "outputId": "36e8f7ec-dc21-4400-ed90-7a252759d91a"
      },
      "execution_count": 20,
      "outputs": [
        {
          "output_type": "stream",
          "name": "stdout",
          "text": [
            "karen2.py:4: \u001b[1m\u001b[31merror:\u001b[m Skipping analyzing \u001b[m\u001b[1m\"seaborn\"\u001b[m: module is installed, but missing library stubs or py.typed marker  \u001b[m\u001b[33m[import-untyped]\u001b[m\n",
            "karen2.py:5: \u001b[1m\u001b[31merror:\u001b[m Skipping analyzing \u001b[m\u001b[1m\"matplotlib.pyplot\"\u001b[m: module is installed, but missing library stubs or py.typed marker  \u001b[m\u001b[33m[import-untyped]\u001b[m\n",
            "karen2.py:5: \u001b[1m\u001b[31merror:\u001b[m Skipping analyzing \u001b[m\u001b[1m\"matplotlib\"\u001b[m: module is installed, but missing library stubs or py.typed marker  \u001b[m\u001b[33m[import-untyped]\u001b[m\n",
            "karen2.py:6: \u001b[1m\u001b[31merror:\u001b[m Skipping analyzing \u001b[m\u001b[1m\"wordcloud\"\u001b[m: module is installed, but missing library stubs or py.typed marker  \u001b[m\u001b[33m[import-untyped]\u001b[m\n",
            "karen2.py:7: \u001b[1m\u001b[31merror:\u001b[m Skipping analyzing \u001b[m\u001b[1m\"sklearn.model_selection\"\u001b[m: module is installed, but missing library stubs or py.typed marker  \u001b[m\u001b[33m[import-untyped]\u001b[m\n",
            "karen2.py:9: \u001b[1m\u001b[31merror:\u001b[m Skipping analyzing \u001b[m\u001b[1m\"nltk\"\u001b[m: module is installed, but missing library stubs or py.typed marker  \u001b[m\u001b[33m[import-untyped]\u001b[m\n",
            "karen2.py:10: \u001b[1m\u001b[31merror:\u001b[m Skipping analyzing \u001b[m\u001b[1m\"nltk.corpus\"\u001b[m: module is installed, but missing library stubs or py.typed marker  \u001b[m\u001b[33m[import-untyped]\u001b[m\n",
            "karen2.py:11: \u001b[1m\u001b[31merror:\u001b[m Skipping analyzing \u001b[m\u001b[1m\"nltk.stem.porter\"\u001b[m: module is installed, but missing library stubs or py.typed marker  \u001b[m\u001b[33m[import-untyped]\u001b[m\n",
            "karen2.py:12: \u001b[1m\u001b[31merror:\u001b[m Skipping analyzing \u001b[m\u001b[1m\"sklearn.metrics\"\u001b[m: module is installed, but missing library stubs or py.typed marker  \u001b[m\u001b[33m[import-untyped]\u001b[m\n",
            "karen2.py:17: \u001b[1m\u001b[31merror:\u001b[m Skipping analyzing \u001b[m\u001b[1m\"tensorflow.keras.layers\"\u001b[m: module is installed, but missing library stubs or py.typed marker  \u001b[m\u001b[33m[import-untyped]\u001b[m\n",
            "karen2.py:26: \u001b[1m\u001b[31merror:\u001b[m Skipping analyzing \u001b[m\u001b[1m\"tensorflow.keras.preprocessing.sequence\"\u001b[m: module is installed, but missing library stubs or py.typed marker  \u001b[m\u001b[33m[import-untyped]\u001b[m\n",
            "karen2.py:26: \u001b[34mnote:\u001b[m See \u001b[4mhttps://mypy.readthedocs.io/en/stable/running_mypy.html#missing-imports\u001b[m\u001b[m\n",
            "karen2.py:27: \u001b[1m\u001b[31merror:\u001b[m Skipping analyzing \u001b[m\u001b[1m\"tensorflow.keras.models\"\u001b[m: module is installed, but missing library stubs or py.typed marker  \u001b[m\u001b[33m[import-untyped]\u001b[m\n",
            "karen2.py:28: \u001b[1m\u001b[31merror:\u001b[m Skipping analyzing \u001b[m\u001b[1m\"nltk.stem\"\u001b[m: module is installed, but missing library stubs or py.typed marker  \u001b[m\u001b[33m[import-untyped]\u001b[m\n",
            "karen2.py:29: \u001b[1m\u001b[31merror:\u001b[m Skipping analyzing \u001b[m\u001b[1m\"plotly.express\"\u001b[m: module is installed, but missing library stubs or py.typed marker  \u001b[m\u001b[33m[import-untyped]\u001b[m\n",
            "karen2.py:29: \u001b[1m\u001b[31merror:\u001b[m Skipping analyzing \u001b[m\u001b[1m\"plotly\"\u001b[m: module is installed, but missing library stubs or py.typed marker  \u001b[m\u001b[33m[import-untyped]\u001b[m\n",
            "karen2.py:31: \u001b[1m\u001b[31merror:\u001b[m Skipping analyzing \u001b[m\u001b[1m\"tensorflow.keras.preprocessing.text\"\u001b[m: module is installed, but missing library stubs or py.typed marker  \u001b[m\u001b[33m[import-untyped]\u001b[m\n",
            "karen2.py:288: \u001b[1m\u001b[31merror:\u001b[m No overload variant of \u001b[m\u001b[1m\"__getitem__\"\u001b[m of \u001b[m\u001b[1m\"_iLocIndexerSeries\"\u001b[m matches argument type \u001b[m\u001b[1m\"list[int]\"\u001b[m  \u001b[m\u001b[33m[call-overload]\u001b[m\n",
            "karen2.py:288: \u001b[34mnote:\u001b[m Possible overload variants:\u001b[m\n",
            "karen2.py:288: \u001b[34mnote:\u001b[m     def __getitem__(self, int | signedinteger[Any] | integer[Any] | unsignedinteger[Any] | signedinteger[Any] | signedinteger[_8Bit], /) -> Any\u001b[m\n",
            "karen2.py:288: \u001b[34mnote:\u001b[m     def __getitem__(self, Index[Any] | slice | ndarray[Any, dtype[integer[Any]]], /) -> Series[Any]\u001b[m\n",
            "\u001b[1m\u001b[31mFound 17 errors in 1 file (checked 1 source file)\u001b[m\n"
          ]
        }
      ]
    },
    {
      "cell_type": "code",
      "source": [
        "! mypy --install-types"
      ],
      "metadata": {
        "id": "Z-X2QzAruhND"
      },
      "execution_count": 21,
      "outputs": []
    }
  ]
}